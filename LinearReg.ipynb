{
  "cells": [
    {
      "cell_type": "markdown",
      "metadata": {
        "id": "view-in-github",
        "colab_type": "text"
      },
      "source": [
        "<a href=\"https://colab.research.google.com/github/PremWoods/PremWoods.github.io/blob/main/LinearReg.ipynb\" target=\"_parent\"><img src=\"https://colab.research.google.com/assets/colab-badge.svg\" alt=\"Open In Colab\"/></a>"
      ]
    },
    {
      "cell_type": "code",
      "source": [
        "import numpy as np\n",
        "import pandas as pd\n",
        "import seaborn as sns\n",
        "import matplotlib.pyplot as plt\n",
        "from sklearn import preprocessing, svm\n",
        "from sklearn.model_selection import train_test_split\n",
        "from sklearn.linear_model import LinearRegression\n",
        "\n",
        "#Create my dataframe by joining two datasets - ODA received in 2014, and a measure of poverty, Extreme poverty 2017 ppp (>$2.15 a day)(nearest measure to 2014 recorded)\n",
        "\n",
        "import pandas as pd\n",
        "\n",
        "ODA = pd.read_csv(\"2014_ODA.csv\")\n",
        "Ext = pd.read_csv(\"ExtPov_Headcount.csv\")\n",
        "\n",
        "df = pd.merge(ODA, Ext, on='Country Name')\n",
        "\n",
        "df2 = df[[\"Country Name\",\"2014 [YR2014]\",\"Closest to 2014\"]].set_index(\"Country Name\")\n",
        "\n",
        "df2.rename(columns={'2014 [YR2014]': 'ODA_2014', 'Closest to 2014': 'ExtPov_%'}, inplace=True)\n",
        "\n",
        "df3 = df2.replace(\"..\", np.nan)\n",
        "\n",
        "df4 = df3.dropna(axis=0)\n",
        "\n",
        "df4['ODA_2014'] = df4['ODA_2014'].astype(float)\n",
        "\n",
        "df4['ODA_2014'] = df4['ODA_2014']/1000000\n",
        "\n",
        "\n",
        "X = np.array(df4[\"ExtPov_%\"]).reshape(-1,1)\n",
        "y = np.array(df4[ \"ODA_2014\"]).reshape(-1,1)\n",
        "\n",
        "regr = LinearRegression()\n",
        "  \n",
        "regr.fit(X, y)\n",
        "print(regr.score(X,y))\n",
        "\n",
        "\n",
        "y2 = regr.predict(X)\n",
        "\n",
        "\n",
        "plt.plot(X, y,'o', color ='lightblue');\n",
        "plt.plot(X, y2, color ='black')\n",
        "\n"
      ],
      "metadata": {
        "colab": {
          "base_uri": "https://localhost:8080/",
          "height": 528
        },
        "id": "7k3IZo9I1865",
        "outputId": "79cfc96e-8a57-4cdb-d25b-719bc7c74ad7"
      },
      "execution_count": 68,
      "outputs": [
        {
          "output_type": "stream",
          "name": "stdout",
          "text": [
            "0.039624613805255615\n"
          ]
        },
        {
          "output_type": "stream",
          "name": "stderr",
          "text": [
            "<ipython-input-68-cea6fb5c74ac>:26: SettingWithCopyWarning: \n",
            "A value is trying to be set on a copy of a slice from a DataFrame.\n",
            "Try using .loc[row_indexer,col_indexer] = value instead\n",
            "\n",
            "See the caveats in the documentation: https://pandas.pydata.org/pandas-docs/stable/user_guide/indexing.html#returning-a-view-versus-a-copy\n",
            "  df4['ODA_2014'] = df4['ODA_2014'].astype(float)\n",
            "<ipython-input-68-cea6fb5c74ac>:28: SettingWithCopyWarning: \n",
            "A value is trying to be set on a copy of a slice from a DataFrame.\n",
            "Try using .loc[row_indexer,col_indexer] = value instead\n",
            "\n",
            "See the caveats in the documentation: https://pandas.pydata.org/pandas-docs/stable/user_guide/indexing.html#returning-a-view-versus-a-copy\n",
            "  df4['ODA_2014'] = df4['ODA_2014']/1000000\n"
          ]
        },
        {
          "output_type": "execute_result",
          "data": {
            "text/plain": [
              "[<matplotlib.lines.Line2D at 0x7f1db4109190>]"
            ]
          },
          "metadata": {},
          "execution_count": 68
        },
        {
          "output_type": "display_data",
          "data": {
            "text/plain": [
              "<Figure size 432x288 with 1 Axes>"
            ],
            "image/png": "[encoded data removed]"
          },
          "metadata": {
            "needs_background": "light"
          }
        }
      ]
    },
    {
      "cell_type": "code",
      "source": [],
      "metadata": {
        "id": "fDh7UJSAS6BQ"
      },
      "execution_count": null,
      "outputs": []
    }
  ],
  "metadata": {
    "colab": {
      "name": "Welcome to Colaboratory",
      "provenance": [],
      "include_colab_link": true
    },
    "kernelspec": {
      "display_name": "Python 3",
      "name": "python3"
    }
  },
  "nbformat": 4,
  "nbformat_minor": 0
}