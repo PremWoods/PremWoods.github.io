{
  "nbformat": 4,
  "nbformat_minor": 0,
  "metadata": {
    "colab": {
      "provenance": [],
      "authorship_tag": "ABX9TyNTjQPVk6EwC8KrciZQeCKl",
      "include_colab_link": true
    },
    "kernelspec": {
      "name": "python3",
      "display_name": "Python 3"
    },
    "language_info": {
      "name": "python"
    }
  },
  "cells": [
    {
      "cell_type": "markdown",
      "metadata": {
        "id": "view-in-github",
        "colab_type": "text"
      },
      "source": [
        "<a href=\"https://colab.research.google.com/github/PremWoods/PremWoods.github.io/blob/main/Week4.ipynb\" target=\"_parent\"><img src=\"https://colab.research.google.com/assets/colab-badge.svg\" alt=\"Open In Colab\"/></a>"
      ]
    },
    {
      "cell_type": "code",
      "execution_count": null,
      "metadata": {
        "id": "cTwjpN0T45HK"
      },
      "outputs": [],
      "source": [
        "import pandas as pd\n",
        "table_list = pd.read_html('HappinessIndex.html')\n",
        "#Wide form \n",
        "\n",
        "len(table_list)\n",
        "\n",
        "df = table_list[0]\n",
        "df2 = df.rename(columns={'Happiness 2020':'2020', 'Happiness 2021':'2021'})\n",
        "df3 = df2.drop(['Score Change', 'Rank'], axis=1)\n",
        "df4 = df3.set_index(['Country']).stack().reset_index()\n",
        "df5 = df4.rename(columns={'level_1':'Year', 0:'Happiness Index Score'})\n",
        "df5.set_index('Country').to_csv('Happiness.csv')"
      ]
    }
  ]
}